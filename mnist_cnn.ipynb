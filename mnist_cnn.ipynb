#!/usr/bin/env python
# -*- coding: utf-8 -*-

"""Self-Installing MNIST CNN Classifier"""

import sys
import subprocess
import importlib

# 1. Check and install required packages automatically
REQUIRED_PACKAGES = [
    ('tensorflow', 'tensorflow>=2.8.0'),
    ('matplotlib', 'matplotlib>=3.5.0'),
    ('numpy', 'numpy>=1.21.0')
]

def install_packages():
    missing_packages = []
    for package, pip_name in REQUIRED_PACKAGES:
        try:
            importlib.import_module(package)
        except ImportError:
            missing_packages.append(pip_name)
    
    if missing_packages:
        print("⚙️ Installing missing packages:", " ".join(missing_packages))
        subprocess.check_call([sys.executable, "-m", "pip", "install", "--user", "--upgrade"] + missing_packages)

install_packages()

# 2. Main CNN Code
import tensorflow as tf
from tensorflow.keras import layers
import matplotlib.pyplot as plt
import numpy as np

def main():
    # Load and preprocess data
    (x_train, y_train), (x_test, y_test) = tf.keras.datasets.mnist.load_data()
    x_train = x_train.reshape(-1, 28, 28, 1).astype("float32") / 255.0
    x_test = x_test.reshape(-1, 28, 28, 1).astype("float32") / 255.0

    # Build model
    model = tf.keras.Sequential([
        layers.Conv2D(32, 3, activation='relu', input_shape=(28, 28, 1)),
        layers.MaxPooling2D(),
        layers.Flatten(),
        layers.Dense(128, activation='relu'),
        layers.Dense(10)
    ])

    # Compile and train
    model.compile(
        optimizer='adam',
        loss=tf.keras.losses.SparseCategoricalCrossentropy(from_logits=True),
        metrics=['accuracy']
    )

    print("🚀 Training model...")
    history = model.fit(
        x_train, 
        y_train,
        epochs=5,
        validation_data=(x_test, y_test),
        batch_size=64
    )

    # Evaluate
    test_loss, test_acc = model.evaluate(x_test, y_test, verbose=0)
    print(f"\n✅ Test Accuracy: {test_acc*100:.2f}%")

    # Visualize
    def plot_predictions(samples=5):
        predictions = model.predict(x_test[:samples])
        plt.figure(figsize=(10, 5))
        for i in range(samples):
            plt.subplot(1, samples, i+1)
            plt.imshow(x_test[i].reshape(28, 28), cmap='gray')
            plt.title(f"Pred: {tf.argmax(predictions[i])}\nTrue: {y_test[i]}")
            plt.axis('off')
        plt.tight_layout()
        plt.show()

    plot_predictions()

if __name__ == "__main__":
    main()