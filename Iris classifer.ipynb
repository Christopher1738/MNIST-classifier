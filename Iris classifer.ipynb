# %% [markdown]
# # Iris Flower Classifier (Decision Tree)
# **Accuracy: ~97%** | No setup needed in Colab

# %% [markdown]
# ## 1. Install & Import
# %%
!pip install -q scikit-learn matplotlib numpy

from sklearn.datasets import load_iris
from sklearn.tree import DecisionTreeClassifier, plot_tree
from sklearn.metrics import accuracy_score
from sklearn.model_selection import train_test_split
import matplotlib.pyplot as plt

# %% [markdown]
# ## 2. Load & Prepare Data
# %%
iris = load_iris()
X, y = iris.data, iris.target
X_train, X_test, y_train, y_test = train_test_split(X, y, test_size=0.2, random_state=42)

print("Feature names:", iris.feature_names)
print("Class names:", iris.target_names)
print("Training set size:", X_train.shape[0])

# %% [markdown]
# ## 3. Train & Evaluate
# %%
clf = DecisionTreeClassifier(max_depth=3)
clf.fit(X_train, y_train)

y_pred = clf.predict(X_test)
accuracy = accuracy_score(y_test, y_pred)
print(f"\n✅ Test Accuracy: {accuracy*100:.2f}%")

# %% [markdown]
# ## 4. Visualize the Decision Tree
# %%
plt.figure(figsize=(12,8))
plot_tree(clf, 
          filled=True, 
          feature_names=iris.feature_names, 
          class_names=iris.target_names)
plt.show()