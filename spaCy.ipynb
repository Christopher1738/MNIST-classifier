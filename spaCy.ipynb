{
 "cells": [
  {
   "cell_type": "code",
   "execution_count": null,
   "id": "c019b76f",
   "metadata": {
    "vscode": {
     "languageId": "plaintext"
    }
   },
   "outputs": [],
   "source": [
    "# %% [markdown]\n",
    "# # Amazon Review Analyzer (NER + Sentiment)\n",
    "# **Extracts brands & detects sentiment** with spaCy\n",
    "\n",
    "# %% [markdown]\n",
    "# ## 1. Install spaCy and download model\n",
    "# %%\n",
    "!pip install -q spacy\n",
    "!python -m spacy download en_core_web_sm\n",
    "\n",
    "import spacy\n",
    "from spacy import displacy\n",
    "\n",
    "# %% [markdown]\n",
    "# ## 2. Load model and sample review\n",
    "# %%\n",
    "nlp = spacy.load(\"en_core_web_sm\")\n",
    "\n",
    "review = \"\"\"\n",
    "The Bose QuietComfort 45 headphones have incredible noise cancellation, \n",
    "but the Sony WH-1000XM4 has better bass. The Apple AirPods Max is too expensive.\n",
    "\"\"\"\n",
    "\n",
    "# %% [markdown]\n",
    "# ## 3. Named Entity Recognition (NER)\n",
    "# %%\n",
    "doc = nlp(review)\n",
    "\n",
    "print(\"🔍 Found Entities:\")\n",
    "for ent in doc.ents:\n",
    "    print(f\"{ent.text} | {ent.label_}\")  # PRODUCT, ORG, etc.\n",
    "\n",
    "# Visualize NER\n",
    "displacy.render(doc, style=\"ent\", jupyter=True)\n",
    "\n",
    "# %% [markdown]\n",
    "# ## 4. Rule-Based Sentiment Analysis\n",
    "# %%\n",
    "sentiment_rules = {\n",
    "    \"positive\": [\"incredible\", \"better\", \"amazing\", \"love\"],\n",
    "    \"negative\": [\"too expensive\", \"bad\", \"worse\", \"disappointing\"]\n",
    "}\n",
    "\n",
    "def analyze_sentiment(text):\n",
    "    doc = nlp(text.lower())\n",
    "    score = 0\n",
    "    for token in doc:\n",
    "        if token.text in sentiment_rules[\"positive\"]:\n",
    "            score += 1\n",
    "        elif token.text in sentiment_rules[\"negative\"]:\n",
    "            score -= 1\n",
    "    return \"positive\" if score > 0 else \"negative\" if score < 0 else \"neutral\"\n",
    "\n",
    "print(\"\\n🎯 Sentiment:\", analyze_sentiment(review))"
   ]
  },
  {
   "cell_type": "code",
   "execution_count": null,
   "id": "ad3a65f8",
   "metadata": {
    "vscode": {
     "languageId": "plaintext"
    }
   },
   "outputs": [],
   "source": []
  }
 ],
 "metadata": {
  "language_info": {
   "name": "python"
  }
 },
 "nbformat": 4,
 "nbformat_minor": 5
}
